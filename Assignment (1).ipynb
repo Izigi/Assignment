{
  "metadata": {
    "language_info": {
      "codemirror_mode": {
        "name": "python",
        "version": 3
      },
      "file_extension": ".py",
      "mimetype": "text/x-python",
      "name": "python",
      "nbconvert_exporter": "python",
      "pygments_lexer": "ipython3",
      "version": "3.8"
    },
    "kernelspec": {
      "name": "python",
      "display_name": "Pyolite",
      "language": "python"
    }
  },
  "nbformat_minor": 4,
  "nbformat": 4,
  "cells": [
    {
      "cell_type": "markdown",
      "source": "# My Jupyter Notebook on IBM Watson Studio",
      "metadata": {}
    },
    {
      "cell_type": "markdown",
      "source": "**Darija D.**\n\nCurrent Role: Expert in Science & Technology",
      "metadata": {}
    },
    {
      "cell_type": "markdown",
      "source": "*I am interested in data science, because the future is becoming more and more digitalized, generating lots of data that needs to be processed and analyzed. Gaining skills in data science will help to master this difficult challenge.*",
      "metadata": {}
    },
    {
      "cell_type": "markdown",
      "source": "### The code below is supposed to say \"Hello!\"",
      "metadata": {}
    },
    {
      "cell_type": "code",
      "source": "print('Hello!')",
      "metadata": {
        "trusted": true
      },
      "execution_count": 1,
      "outputs": [
        {
          "name": "stdout",
          "text": "Hello!\n",
          "output_type": "stream"
        }
      ]
    },
    {
      "cell_type": "markdown",
      "source": "***\nThis is the final assignment of Module 2\n***\n1. Is the title\n2. Is my name and current role\n3. Describes why I am interested in Data Science\n4. Describes the code in cell 5\n5. Is the code\n\n|Header 1|Header 2|Header 3|\n|---|---|---|\n|Result 1|Result 2|Result 3|",
      "metadata": {}
    },
    {
      "cell_type": "code",
      "source": "",
      "metadata": {},
      "execution_count": null,
      "outputs": []
    }
  ]
}